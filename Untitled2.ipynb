{
 "cells": [
  {
   "cell_type": "code",
   "execution_count": 2,
   "metadata": {},
   "outputs": [],
   "source": [
    "import pandas as pd\n",
    "import sqlite3\n",
    "conn = sqlite3.connect('dogs.db')\n",
    "cur = conn.cursor()\n",
    "# df = pd.read_csv('planets.db')"
   ]
  },
  {
   "cell_type": "markdown",
   "metadata": {},
   "source": [
    "Select the name and breed for all female dogs\n"
   ]
  },
  {
   "cell_type": "code",
   "execution_count": 3,
   "metadata": {},
   "outputs": [
    {
     "data": {
      "text/plain": [
       "[('Little Ann', 'coonhound'),\n",
       " ('Pickles', 'black lab'),\n",
       " ('Lassie', 'collie'),\n",
       " ('Snowy', 'fox terrier')]"
      ]
     },
     "execution_count": 3,
     "metadata": {},
     "output_type": "execute_result"
    }
   ],
   "source": [
    "cur.execute(\"\"\"SELECT name, breed FROM dogs WHERE gender = 'F';\"\"\").fetchall()"
   ]
  },
  {
   "cell_type": "markdown",
   "metadata": {},
   "source": [
    "Select the names and age of all dogs listed in alphabetical order. Notice that SQL lists the nameless dog first."
   ]
  },
  {
   "cell_type": "code",
   "execution_count": 4,
   "metadata": {},
   "outputs": [
    {
     "data": {
      "text/plain": [
       "[(None, 4),\n",
       " ('Clifford', 4),\n",
       " ('Lassie', 7),\n",
       " ('Little Ann', 5),\n",
       " ('McGruff', 10),\n",
       " ('Pickles', 13),\n",
       " ('Scooby', 6),\n",
       " ('Snoopy', 3),\n",
       " ('Snowy', 8)]"
      ]
     },
     "execution_count": 4,
     "metadata": {},
     "output_type": "execute_result"
    }
   ],
   "source": [
    "cur.execute('''select name, age from dogs ORDER BY name;''').fetchall()"
   ]
  },
  {
   "cell_type": "markdown",
   "metadata": {},
   "source": [
    "Select the names and age of all dogs listed by age. Notice that SQL lists the nameless dog first."
   ]
  },
  {
   "cell_type": "code",
   "execution_count": 5,
   "metadata": {},
   "outputs": [
    {
     "data": {
      "text/plain": [
       "[('Pickles', 13),\n",
       " ('McGruff', 10),\n",
       " ('Snowy', 8),\n",
       " ('Lassie', 7),\n",
       " ('Scooby', 6),\n",
       " ('Little Ann', 5),\n",
       " ('Clifford', 4),\n",
       " (None, 4),\n",
       " ('Snoopy', 3)]"
      ]
     },
     "execution_count": 5,
     "metadata": {},
     "output_type": "execute_result"
    }
   ],
   "source": [
    "cur.execute('''select name, age from dogs order by age desc;''').fetchall()"
   ]
  },
  {
   "cell_type": "markdown",
   "metadata": {},
   "source": [
    "Select any dog that doesn't have a name\n"
   ]
  },
  {
   "cell_type": "code",
   "execution_count": 6,
   "metadata": {},
   "outputs": [
    {
     "data": {
      "text/plain": [
       "[(9, None, 4, 'M', 'golden retriever', 'playful', 1)]"
      ]
     },
     "execution_count": 6,
     "metadata": {},
     "output_type": "execute_result"
    }
   ],
   "source": [
    "cur.execute('''select * from dogs where name is null;''').fetchall()"
   ]
  },
  {
   "cell_type": "code",
   "execution_count": 7,
   "metadata": {},
   "outputs": [
    {
     "data": {
      "text/plain": [
       "[(1, 'Snoopy', 3, 'M', 'beagle', 'friendly', 1),\n",
       " (4, 'Little Ann', 5, 'F', 'coonhound', 'loyal', 0),\n",
       " (6, 'Clifford', 4, 'M', 'big red', 'smiley', 1),\n",
       " (9, None, 4, 'M', 'golden retriever', 'playful', 1)]"
      ]
     },
     "execution_count": 7,
     "metadata": {},
     "output_type": "execute_result"
    }
   ],
   "source": [
    "#practicing a between statement\n",
    "cur.execute('''select * from dogs\n",
    "        where age between 3 and 5''').fetchall()"
   ]
  },
  {
   "cell_type": "code",
   "execution_count": 19,
   "metadata": {},
   "outputs": [
    {
     "data": {
      "text/plain": [
       "[(1, 'Snoopy', 3, 'M', 'beagle', 'friendly', 1, 'mid'),\n",
       " (2, 'McGruff', 10, 'M', 'bloodhound', 'aware', 0, 'old'),\n",
       " (3, 'Scooby', 6, 'M', 'great dane', 'hungry', 1, 'old'),\n",
       " (4, 'Little Ann', 5, 'F', 'coonhound', 'loyal', 0, 'old'),\n",
       " (5, 'Pickles', 13, 'F', 'black lab', 'mischievous', 1, 'old'),\n",
       " (6, 'Clifford', 4, 'M', 'big red', 'smiley', 1, 'mid'),\n",
       " (7, 'Lassie', 7, 'F', 'collie', 'loving', 1, 'old'),\n",
       " (8, 'Snowy', 8, 'F', 'fox terrier', 'adventurous', 0, 'old'),\n",
       " (9, None, 4, 'M', 'golden retriever', 'playful', 1, 'mid')]"
      ]
     },
     "execution_count": 19,
     "metadata": {},
     "output_type": "execute_result"
    }
   ],
   "source": [
    "#practicing a case statement\n",
    "cur.execute('''select *, \n",
    "        case\n",
    "        when age < 2 then \"young\"\n",
    "        when age < 5 then \"mid\"\n",
    "        else \"old\" \n",
    "        end \n",
    "    from dogs;''').fetchall()"
   ]
  },
  {
   "cell_type": "code",
   "execution_count": null,
   "metadata": {},
   "outputs": [],
   "source": []
  }
 ],
 "metadata": {
  "kernelspec": {
   "display_name": "Python 3",
   "language": "python",
   "name": "python3"
  },
  "language_info": {
   "codemirror_mode": {
    "name": "ipython",
    "version": 3
   },
   "file_extension": ".py",
   "mimetype": "text/x-python",
   "name": "python",
   "nbconvert_exporter": "python",
   "pygments_lexer": "ipython3",
   "version": "3.7.4"
  }
 },
 "nbformat": 4,
 "nbformat_minor": 2
}
