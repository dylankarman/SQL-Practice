{
 "cells": [
  {
   "cell_type": "code",
   "execution_count": 16,
   "metadata": {},
   "outputs": [],
   "source": [
    "import pandas as pd\n",
    "import sqlite3\n",
    "conn = sqlite3.connect('SF_Park_Scores.csv')\n",
    "cur = conn.cursor()\n",
    "df = pd.read_csv('SF_Park_Scores.csv')"
   ]
  },
  {
   "cell_type": "code",
   "execution_count": 18,
   "metadata": {},
   "outputs": [
    {
     "data": {
      "text/html": [
       "<div>\n",
       "<style scoped>\n",
       "    .dataframe tbody tr th:only-of-type {\n",
       "        vertical-align: middle;\n",
       "    }\n",
       "\n",
       "    .dataframe tbody tr th {\n",
       "        vertical-align: top;\n",
       "    }\n",
       "\n",
       "    .dataframe thead th {\n",
       "        text-align: right;\n",
       "    }\n",
       "</style>\n",
       "<table border=\"1\" class=\"dataframe\">\n",
       "  <thead>\n",
       "    <tr style=\"text-align: right;\">\n",
       "      <th></th>\n",
       "      <th>ParkID</th>\n",
       "      <th>PSA</th>\n",
       "      <th>Park</th>\n",
       "      <th>FQ</th>\n",
       "      <th>Score</th>\n",
       "      <th>Facility Type</th>\n",
       "      <th>Facility Name</th>\n",
       "      <th>Address</th>\n",
       "      <th>State</th>\n",
       "      <th>Zipcode</th>\n",
       "      <th>Floor Count</th>\n",
       "      <th>Square Feet</th>\n",
       "      <th>Perimeter Length</th>\n",
       "      <th>Acres</th>\n",
       "      <th>Longitude</th>\n",
       "      <th>Latitude</th>\n",
       "    </tr>\n",
       "  </thead>\n",
       "  <tbody>\n",
       "    <tr>\n",
       "      <td>3024</td>\n",
       "      <td>38</td>\n",
       "      <td>PSA3</td>\n",
       "      <td>Bay View Playground</td>\n",
       "      <td>FY11Q2</td>\n",
       "      <td>0.908</td>\n",
       "      <td>Ball Field</td>\n",
       "      <td>Visitacion Valley Ball Fields</td>\n",
       "      <td>Cora &amp; Leland St</td>\n",
       "      <td>CA</td>\n",
       "      <td>94134.0</td>\n",
       "      <td>NaN</td>\n",
       "      <td>53257.899986</td>\n",
       "      <td>886.438137</td>\n",
       "      <td>1.222638</td>\n",
       "      <td>-122.409084</td>\n",
       "      <td>37.712275</td>\n",
       "    </tr>\n",
       "  </tbody>\n",
       "</table>\n",
       "</div>"
      ],
      "text/plain": [
       "      ParkID   PSA                 Park      FQ  Score Facility Type  \\\n",
       "3024      38  PSA3  Bay View Playground  FY11Q2  0.908    Ball Field   \n",
       "\n",
       "                      Facility Name           Address State  Zipcode  \\\n",
       "3024  Visitacion Valley Ball Fields  Cora & Leland St    CA  94134.0   \n",
       "\n",
       "      Floor Count   Square Feet  Perimeter Length     Acres   Longitude  \\\n",
       "3024          NaN  53257.899986        886.438137  1.222638 -122.409084   \n",
       "\n",
       "       Latitude  \n",
       "3024  37.712275  "
      ]
     },
     "execution_count": 18,
     "metadata": {},
     "output_type": "execute_result"
    }
   ],
   "source": [
    "df.sample(1)\n",
    "#i uploaded the df so that i can make questions to answer for myself, such as...."
   ]
  },
  {
   "cell_type": "markdown",
   "metadata": {},
   "source": [
    "choose every park that has a score >0.9"
   ]
  },
  {
   "cell_type": "code",
   "execution_count": 24,
   "metadata": {},
   "outputs": [
    {
     "data": {
      "text/plain": [
       "1.000    934\n",
       "0.976     65\n",
       "0.957     53\n",
       "0.944     49\n",
       "0.971     48\n",
       "        ... \n",
       "0.531      1\n",
       "0.282      1\n",
       "0.451      1\n",
       "0.484      1\n",
       "0.715      1\n",
       "Name: Score, Length: 462, dtype: int64"
      ]
     },
     "execution_count": 24,
     "metadata": {},
     "output_type": "execute_result"
    }
   ],
   "source": [
    "score = df['Score'].value_counts()\n",
    "score"
   ]
  },
  {
   "cell_type": "code",
   "execution_count": 25,
   "metadata": {},
   "outputs": [
    {
     "ename": "SyntaxError",
     "evalue": "invalid syntax (<ipython-input-25-b29401c4c744>, line 1)",
     "output_type": "error",
     "traceback": [
      "\u001b[0;36m  File \u001b[0;32m\"<ipython-input-25-b29401c4c744>\"\u001b[0;36m, line \u001b[0;32m1\u001b[0m\n\u001b[0;31m    if score >= '.9' print score\u001b[0m\n\u001b[0m                         ^\u001b[0m\n\u001b[0;31mSyntaxError\u001b[0m\u001b[0;31m:\u001b[0m invalid syntax\n"
     ]
    }
   ],
   "source": [
    "if score >= '.9' print score"
   ]
  },
  {
   "cell_type": "code",
   "execution_count": null,
   "metadata": {},
   "outputs": [],
   "source": []
  }
 ],
 "metadata": {
  "kernelspec": {
   "display_name": "Python 3",
   "language": "python",
   "name": "python3"
  },
  "language_info": {
   "codemirror_mode": {
    "name": "ipython",
    "version": 3
   },
   "file_extension": ".py",
   "mimetype": "text/x-python",
   "name": "python",
   "nbconvert_exporter": "python",
   "pygments_lexer": "ipython3",
   "version": "3.7.4"
  }
 },
 "nbformat": 4,
 "nbformat_minor": 2
}
